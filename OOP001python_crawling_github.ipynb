{
 "cells": [
  {
   "cell_type": "code",
   "execution_count": 3,
   "id": "72d9e653",
   "metadata": {},
   "outputs": [
    {
     "data": {
      "text/plain": [
       "'\\u3000\\n*** License & 著作権等 ***\\n勉強目的、学生以外の人が使用するのは禁止です。\\n日本の法律をお守りください。\\n責任を持ってこのアプリを使用してください。\\nありがとうございます。\\n\\n*** 案内及びインストール ***\\nOOP001_standard_crawling\\n\\n   ◎ Webスクレイピング、クローリング\\n        Webサイトから特定の情報を自動的に抽出するコンピュータソフトウェア技術のこと\\n   ◎ 目的：\\n        WEB上のテキスト及び写真等を自動的に収集する\\n\\n   ◎ 環境設定 \\n       インストール : conda install selenium\\u3000or conda install selenium==3.141.0 or pip install selenium\\n                    : conda install tqdm or pip install tqdm\\n'"
      ]
     },
     "execution_count": 3,
     "metadata": {},
     "output_type": "execute_result"
    }
   ],
   "source": [
    "'''　\n",
    "*** License & 著作権等 ***\n",
    "勉強目的、学生以外の人が使用するのは禁止です。\n",
    "日本の法律をお守りください。\n",
    "責任を持ってこのアプリを使用してください。\n",
    "ありがとうございます。\n",
    "\n",
    "*** 案内及びインストール ***\n",
    "OOP001_standard_crawling\n",
    "\n",
    "   ◎ Webスクレイピング、クローリング\n",
    "        Webサイトから特定の情報を自動的に抽出するコンピュータソフトウェア技術のこと\n",
    "   ◎ 目的：\n",
    "        WEB上のテキスト及び写真等を自動的に収集する\n",
    "\n",
    "   ◎ 環境設定 \n",
    "       インストール : conda install selenium　or conda install selenium==3.141.0 or pip install selenium\n",
    "                    : conda install tqdm or pip install tqdm\n",
    "'''"
   ]
  },
  {
   "cell_type": "code",
   "execution_count": null,
   "id": "24839c28",
   "metadata": {},
   "outputs": [
    {
     "name": "stdout",
     "output_type": "stream",
     "text": [
      "検索キーワードを入力してください。>>> トマト\n",
      "イメージの枚数を入力してください。>>> １００\n"
     ]
    },
    {
     "name": "stderr",
     "output_type": "stream",
     "text": [
      "  0%|          | 1/500 [00:01<08:57,  1.08s/it]"
     ]
    },
    {
     "name": "stdout",
     "output_type": "stream",
     "text": [
      "==== エラー内容 ====\n",
      "type:<class 'selenium.common.exceptions.ElementClickInterceptedException'>\n"
     ]
    },
    {
     "name": "stderr",
     "output_type": "stream",
     "text": [
      "\r",
      "  0%|          | 2/500 [00:02<08:51,  1.07s/it]"
     ]
    },
    {
     "name": "stdout",
     "output_type": "stream",
     "text": [
      "==== エラー内容 ====\n",
      "type:<class 'selenium.common.exceptions.ElementClickInterceptedException'>\n"
     ]
    },
    {
     "name": "stderr",
     "output_type": "stream",
     "text": [
      "\r",
      "  1%|          | 3/500 [00:03<08:54,  1.08s/it]"
     ]
    },
    {
     "name": "stdout",
     "output_type": "stream",
     "text": [
      "==== エラー内容 ====\n",
      "type:<class 'selenium.common.exceptions.ElementClickInterceptedException'>\n"
     ]
    },
    {
     "name": "stderr",
     "output_type": "stream",
     "text": [
      "\r",
      "  1%|          | 4/500 [00:04<08:54,  1.08s/it]"
     ]
    },
    {
     "name": "stdout",
     "output_type": "stream",
     "text": [
      "==== エラー内容 ====\n",
      "type:<class 'selenium.common.exceptions.ElementClickInterceptedException'>\n"
     ]
    },
    {
     "name": "stderr",
     "output_type": "stream",
     "text": [
      "  2%|▏         | 10/500 [00:19<20:07,  2.46s/it]"
     ]
    }
   ],
   "source": [
    "##### TYPE-A:できるだけ関数等は使用しないタイプ #####\n",
    "\n",
    "### HEADER-import ###\n",
    "from selenium import webdriver\n",
    "from selenium.webdriver.common.keys import Keys\n",
    "from selenium.webdriver.common.by import By\n",
    "import time\n",
    "import urllib.request\n",
    "from tqdm import tqdm\n",
    "\n",
    "### Control: 変数・引数 -> 検索キーワード及び枚数選択等 ###\n",
    "keyword = str(input(\"検索キーワードを入力してください。>>> \"))\n",
    "count_no =int(input(\"イメージの枚数を入力してください。>>> \"))#例外処理は複雑になるため今回省略します。\n",
    "img_path = \"ここにパス記入\" #例）C:/Users/sae/を記入\n",
    "#debug_jump = ['juyktwYGaSVEeM', \"FnpJxijGg071NM\"]#リンゴ、トマト\n",
    "\n",
    "### BODY ###\n",
    "# Google Chromeで自動化\n",
    "driver = webdriver.Chrome()\n",
    "driver.get(\"https://www.google.co.jp/imghp?hl=ja&ogbl\")\n",
    "\n",
    "# Nameで検索\n",
    "elem = driver.find_element(By.NAME, \"q\")\n",
    "elem.send_keys(keyword)\n",
    "elem.send_keys(Keys.RETURN)\n",
    "\n",
    "## Scroll Downセット ##\n",
    "# Time sleep setting(seconds)\n",
    "SCROLL_PAUSE = 1\n",
    "\n",
    "# Get scroll height\n",
    "last_height = driver.execute_script(\"return document.body.scrollHeight\")\n",
    "\n",
    "while True:\n",
    "    # Scroll down to bottom\n",
    "    driver.execute_script(\"window.scrollTo(0, document.body.scrollHeight);\")\n",
    "\n",
    "    # Wait to load page\n",
    "    time.sleep(SCROLL_PAUSE)\n",
    "\n",
    "    # Calculate new scroll height and compare with last scroll height\n",
    "    new_height = driver.execute_script(\"return document.body.scrollHeight\")\n",
    "    if new_height == last_height:\n",
    "        try:\n",
    "            driver.find_element(By.CSS_SELECTOR, '.mye4qd').click()\n",
    "        except:\n",
    "            break\n",
    "        \n",
    "    last_height = new_height\n",
    "\n",
    "## Pictureクリック及び保存 ##\n",
    "images = driver.find_elements_by_css_selector('.wXeWr.islib.nfEiy')\n",
    "\n",
    "count = 1\n",
    "for image in tqdm(images):\n",
    "    try:\n",
    "        image.click()\n",
    "        \n",
    "#         #ブロック、著作権等の対応 デバッグ\n",
    "#         current_url = driver.current_url\n",
    "#         debug_url = current_url.split(\"img#imgrc=\")[-1]\n",
    "#         if debug_jump[1] == debug_url:\n",
    "#             print(\"+++JUMP!+++\")\n",
    "#             continue\n",
    "        \n",
    "        time.sleep(2)\n",
    "        \n",
    "        imgURL = driver.find_element_by_xpath(\"/html/body/div[2]/c-wiz/div[3]/div[2]/div[3]/div[2]/div/div[2]/div[2]/div[2]/c-wiz/div/div/div/div[3]/div[1]/a/img[1]\").get_attribute('src')\n",
    "        img_path_file = f'{img_path}{keyword}{str(count)}.jpg'\n",
    "        \n",
    "        # 403 forbidden Debug デバッグ\n",
    "        opener=urllib.request.build_opener()\n",
    "        opener.addheaders=[('User-Agent','Mozilla/5.0 (Windows NT 6.1; WOW64) AppleWebKit/537.36 (KHTML, like Gecko) Chrome/36.0.1941.0 Safari/537.36')]\n",
    "        urllib.request.install_opener(opener)\n",
    "       \n",
    "        urllib.request.urlretrieve(imgURL, img_path_file)\n",
    "        \n",
    "        count += 1\n",
    "        if count > count_no:\n",
    "            print(\"*****************************\")\n",
    "            print(f\"おめでとうございます！ \\n「{keyword}」イメージを{count_no}枚⇒ {img_path}に保存（格納）しました。\")\n",
    "            print(\"*****************************\")\n",
    "            break\n",
    "            \n",
    "    except Exception as e:\n",
    "        print('==== エラー内容 ====') #Debugは大事なのでcheckが必要\n",
    "        print('type:' + str(type(e)))\n",
    "        #print('e自身:' + str(e))->Debugする時に詳細を参考\n",
    "        pass\n",
    "\n",
    "driver.close()"
   ]
  },
  {
   "cell_type": "code",
   "execution_count": null,
   "id": "02675777",
   "metadata": {},
   "outputs": [],
   "source": []
  }
 ],
 "metadata": {
  "kernelspec": {
   "display_name": "Python 3 (ipykernel)",
   "language": "python",
   "name": "python3"
  },
  "language_info": {
   "codemirror_mode": {
    "name": "ipython",
    "version": 3
   },
   "file_extension": ".py",
   "mimetype": "text/x-python",
   "name": "python",
   "nbconvert_exporter": "python",
   "pygments_lexer": "ipython3",
   "version": "3.10.9"
  }
 },
 "nbformat": 4,
 "nbformat_minor": 5
}
